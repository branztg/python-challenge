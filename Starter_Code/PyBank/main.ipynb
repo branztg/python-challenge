{
 "cells": [
  {
   "cell_type": "code",
   "execution_count": 1,
   "id": "c7fe7586-c921-4437-a6c9-1935e5ba61b1",
   "metadata": {},
   "outputs": [],
   "source": [
    "import csv\n",
    "from pathlib import Path"
   ]
  },
  {
   "cell_type": "code",
   "execution_count": 151,
   "id": "5cb018dc-65a7-4eee-a982-7f6b52be72a9",
   "metadata": {},
   "outputs": [],
   "source": [
    "budget_path = Path('./Resources/budget_data.csv')\n",
    "total_months = 0\n",
    "\n",
    "total_profit = 0\n",
    "max_profit = 0\n",
    "max_loss = 0\n",
    "\n",
    "\n",
    "pnl = []"
   ]
  },
  {
   "cell_type": "code",
   "execution_count": 152,
   "id": "ca6d2f52-17ea-4d3c-aa9c-689891b917a1",
   "metadata": {},
   "outputs": [],
   "source": [
    "with open(budget_path, newline='') as csvfile:\n",
    "    reader = csv.reader(csvfile, delimiter=',')\n",
    "    next(reader)\n",
    "    for row in reader:\n",
    "        total_months +=1\n",
    "        pnl.append(row)"
   ]
  },
  {
   "cell_type": "code",
   "execution_count": 161,
   "id": "b82ac796-093c-494c-b61b-0a99fca7d961",
   "metadata": {},
   "outputs": [
    {
     "name": "stdout",
     "output_type": "stream",
     "text": [
      "[['Jan-2010', '867884'], ['Feb-2010', '984655'], ['Mar-2010', '322013'], ['Apr-2010', '-69417'], ['May-2010', '310503'], ['Jun-2010', '522857'], ['Jul-2010', '1033096'], ['Aug-2010', '604885'], ['Sep-2010', '-216386'], ['Oct-2010', '477532'], ['Nov-2010', '893810'], ['Dec-2010', '-80353'], ['Jan-2011', '779806'], ['Feb-2011', '-335203'], ['Mar-2011', '697845'], ['Apr-2011', '793163'], ['May-2011', '485070'], ['Jun-2011', '584122'], ['Jul-2011', '62729'], ['Aug-2011', '668179'], ['Sep-2011', '899906'], ['Oct-2011', '834719'], ['Nov-2011', '132003'], ['Dec-2011', '309978'], ['Jan-2012', '-755566'], ['Feb-2012', '1170593'], ['Mar-2012', '252788'], ['Apr-2012', '1151518'], ['May-2012', '817256'], ['Jun-2012', '570757'], ['Jul-2012', '506702'], ['Aug-2012', '-1022534'], ['Sep-2012', '475062'], ['Oct-2012', '779976'], ['Nov-2012', '144175'], ['Dec-2012', '542494'], ['Jan-2013', '359333'], ['Feb-2013', '321469'], ['Mar-2013', '67780'], ['Apr-2013', '471435'], ['May-2013', '565603'], ['Jun-2013', '872480'], ['Jul-2013', '789480'], ['Aug-2013', '999942'], ['Sep-2013', '-1196225'], ['Oct-2013', '268997'], ['Nov-2013', '-687986'], ['Dec-2013', '1150461'], ['Jan-2014', '682458'], ['Feb-2014', '617856'], ['Mar-2014', '824098'], ['Apr-2014', '581943'], ['May-2014', '132864'], ['Jun-2014', '448062'], ['Jul-2014', '689161'], ['Aug-2014', '800701'], ['Sep-2014', '1166643'], ['Oct-2014', '947333'], ['Nov-2014', '578668'], ['Dec-2014', '988505'], ['Jan-2015', '1139715'], ['Feb-2015', '1029471'], ['Mar-2015', '687533'], ['Apr-2015', '-524626'], ['May-2015', '158620'], ['Jun-2015', '87795'], ['Jul-2015', '423389'], ['Aug-2015', '840723'], ['Sep-2015', '568529'], ['Oct-2015', '332067'], ['Nov-2015', '989499'], ['Dec-2015', '778237'], ['Jan-2016', '650000'], ['Feb-2016', '-1100387'], ['Mar-2016', '-174946'], ['Apr-2016', '757143'], ['May-2016', '445709'], ['Jun-2016', '712961'], ['Jul-2016', '-1163797'], ['Aug-2016', '569899'], ['Sep-2016', '768450'], ['Oct-2016', '102685'], ['Nov-2016', '795914'], ['Dec-2016', '60988'], ['Jan-2017', '138230'], ['Feb-2017', '671099']]\n"
     ]
    }
   ],
   "source": [
    "print(pnl)"
   ]
  },
  {
   "cell_type": "code",
   "execution_count": 140,
   "id": "7b524bfd-8086-409f-afc1-41f57371fbc8",
   "metadata": {},
   "outputs": [
    {
     "ename": "SyntaxError",
     "evalue": "invalid syntax (2346055204.py, line 2)",
     "output_type": "error",
     "traceback": [
      "\u001b[1;36m  File \u001b[1;32m\"C:\\Users\\Branzil\\AppData\\Local\\Temp\\ipykernel_5072\\2346055204.py\"\u001b[1;36m, line \u001b[1;32m2\u001b[0m\n\u001b[1;33m    total_profit pnl[1]\u001b[0m\n\u001b[1;37m                   ^\u001b[0m\n\u001b[1;31mSyntaxError\u001b[0m\u001b[1;31m:\u001b[0m invalid syntax\n"
     ]
    }
   ],
   "source": []
  },
  {
   "cell_type": "code",
   "execution_count": 136,
   "id": "b79d3e2b-ab18-4921-93b7-c41214b64395",
   "metadata": {},
   "outputs": [],
   "source": [
    "# for i in pnl:\n",
    "#     total_profit += i\n",
    "    \n",
    "#     if max_loss == 0:\n",
    "#         max_loss = i\n",
    "#     elif i < max_loss:\n",
    "#         max_loss = i\n",
    "#     elif i > max_profit:\n",
    "#         max_profit = i\n",
    "        \n",
    "        \n",
    "        "
   ]
  },
  {
   "cell_type": "code",
   "execution_count": null,
   "id": "81ca58aa-e90b-4785-8945-248ed0578dbc",
   "metadata": {},
   "outputs": [],
   "source": []
  },
  {
   "cell_type": "code",
   "execution_count": 137,
   "id": "68b0be79-e006-47d6-80ea-53890f5ef7c9",
   "metadata": {},
   "outputs": [
    {
     "name": "stdout",
     "output_type": "stream",
     "text": [
      "Financial Analysis\n",
      "-------------------\n",
      "Total Months: 86\n",
      "Total: $0\n",
      "Average Change: $0.0\n",
      "Greatest Increase: $0\n",
      "Greatest Decrease: $0\n"
     ]
    }
   ],
   "source": [
    "print('Financial Analysis')\n",
    "print('-------------------')\n",
    "\n",
    "print(f'Total Months: {total_months}')\n",
    "print(f'Total: ${total_profit}')\n",
    "print(f'Average Change: ${average_change}')\n",
    "print(f'Greatest Increase: ${max_profit}')\n",
    "print(f'Greatest Decrease: ${max_loss}')\n"
   ]
  },
  {
   "cell_type": "code",
   "execution_count": null,
   "id": "c40bb7b6-de8e-4f12-9d60-97cc7617ead0",
   "metadata": {},
   "outputs": [],
   "source": []
  },
  {
   "cell_type": "code",
   "execution_count": null,
   "id": "3d2d5f01-5ec4-4976-926f-bcb51434c4bc",
   "metadata": {},
   "outputs": [],
   "source": []
  }
 ],
 "metadata": {
  "kernelspec": {
   "display_name": "Python 3 (ipykernel)",
   "language": "python",
   "name": "python3"
  },
  "language_info": {
   "codemirror_mode": {
    "name": "ipython",
    "version": 3
   },
   "file_extension": ".py",
   "mimetype": "text/x-python",
   "name": "python",
   "nbconvert_exporter": "python",
   "pygments_lexer": "ipython3",
   "version": "3.7.13"
  }
 },
 "nbformat": 4,
 "nbformat_minor": 5
}
