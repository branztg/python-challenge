{
 "cells": [
  {
   "cell_type": "code",
   "execution_count": 1,
   "id": "c7fe7586-c921-4437-a6c9-1935e5ba61b1",
   "metadata": {},
   "outputs": [],
   "source": [
    "import csv\n",
    "from pathlib import Path"
   ]
  },
  {
   "cell_type": "code",
   "execution_count": 2,
   "id": "5cb018dc-65a7-4eee-a982-7f6b52be72a9",
   "metadata": {},
   "outputs": [],
   "source": [
    "budget_path = Path('./Resources/budget_data.csv')\n",
    "total_months = 0\n",
    "\n",
    "total_profit = 0\n",
    "greatest_increase = int(0)\n",
    "greatest_decrease = int(0)\n",
    "greatest_increase_date = None\n",
    "greatest_decrease_date = None\n",
    "pnl = []"
   ]
  },
  {
   "cell_type": "code",
   "execution_count": 3,
   "id": "ca6d2f52-17ea-4d3c-aa9c-689891b917a1",
   "metadata": {},
   "outputs": [],
   "source": [
    "# Opening CSV File \n",
    "with open(budget_path, newline='') as csvfile:\n",
    "    reader = csv.reader(csvfile, delimiter=',')\n",
    "    next(reader)\n",
    "    for row in reader:\n",
    "        total_months +=1\n",
    "        pnl.append(row)"
   ]
  },
  {
   "cell_type": "code",
   "execution_count": 4,
   "id": "48570a3d-eea8-46ad-b988-621bfab94ce4",
   "metadata": {},
   "outputs": [],
   "source": [
    "# Calculating the Changes in Profit/Loss\n",
    "# Separating the dates and profits data\n",
    "# Calclating the increase and decrease of the portfolio and storing it in a list \n",
    "current_num = 0\n",
    "last_num = 0\n",
    "changes = []\n",
    "change_and_date = []\n",
    "\n",
    "\n",
    "for i in pnl:\n",
    "    if current_num == 0:\n",
    "        current_num = i[1]\n",
    "    elif current_num != 0:\n",
    "        last_num = current_num\n",
    "        current_num = i[1]\n",
    "        changes = (int(current_num) - int(last_num))\n",
    "        change_date = i[0]\n",
    "        change_and_date.append([change_date,changes])"
   ]
  },
  {
   "cell_type": "code",
   "execution_count": 6,
   "id": "1437b035-bf5f-476a-aa9a-143332769865",
   "metadata": {},
   "outputs": [],
   "source": [
    "# Calculating the Total gain\n",
    "for i in pnl:\n",
    "    total_profit += int(i[1])\n"
   ]
  },
  {
   "cell_type": "code",
   "execution_count": 13,
   "id": "a246befa-d2f2-46fa-a4da-a4a3841fe684",
   "metadata": {},
   "outputs": [],
   "source": [
    "# Calculating the Average Change\n",
    "change_count = 0\n",
    "total_change = 0\n",
    "for i in change_and_date:\n",
    "    total_change += i[1]\n",
    "    change_count += 1\n",
    "\n",
    "avg_change = total_change / change_count"
   ]
  },
  {
   "cell_type": "code",
   "execution_count": 7,
   "id": "b79d3e2b-ab18-4921-93b7-c41214b64395",
   "metadata": {},
   "outputs": [],
   "source": [
    "#  Greatest Increase in Profits\n",
    "for i in change_and_date:\n",
    "    if i[1] > greatest_increase:\n",
    "        greatest_increase = i[1]\n",
    "        greatest_increase_date = i[0]\n",
    "\n",
    "        "
   ]
  },
  {
   "cell_type": "code",
   "execution_count": 8,
   "id": "3b8ad857-cfc7-4b61-beb6-624621b7f69d",
   "metadata": {},
   "outputs": [],
   "source": [
    "# Greatest Decrease in Profits\n",
    "for i in change_and_date:\n",
    "    if i[1] < greatest_decrease:\n",
    "        greatest_decrease = i[1]\n",
    "        greatest_decrease_date = i[0]"
   ]
  },
  {
   "cell_type": "code",
   "execution_count": 14,
   "id": "68b0be79-e006-47d6-80ea-53890f5ef7c9",
   "metadata": {},
   "outputs": [
    {
     "name": "stdout",
     "output_type": "stream",
     "text": [
      "Financial Analysis\n",
      "-------------------\n",
      "Total Months: 86\n",
      "Total: $38382578\n",
      "Average Change: $-2315.12\n",
      "Greatest Increase: $1926159 on Feb-2012\n",
      "Greatest Decrease: $-2196167 on Sep-2013\n"
     ]
    }
   ],
   "source": [
    "# Printing all outputs\n",
    "\n",
    "print('Financial Analysis')\n",
    "print('-------------------')\n",
    "\n",
    "print(f'Total Months: {total_months}')\n",
    "print(f'Total: ${total_profit}')\n",
    "print(f'Average Change: ${round(avg_change,2)}')\n",
    "print(f'Greatest Increase: ${greatest_increase} on {greatest_increase_date}')\n",
    "print(f'Greatest Decrease: ${greatest_decrease} on {greatest_decrease_date}')\n"
   ]
  },
  {
   "cell_type": "code",
   "execution_count": null,
   "id": "41eacc2f-ca8e-46ce-a1a0-8763df639e5a",
   "metadata": {},
   "outputs": [],
   "source": []
  }
 ],
 "metadata": {
  "kernelspec": {
   "display_name": "Python 3 (ipykernel)",
   "language": "python",
   "name": "python3"
  },
  "language_info": {
   "codemirror_mode": {
    "name": "ipython",
    "version": 3
   },
   "file_extension": ".py",
   "mimetype": "text/x-python",
   "name": "python",
   "nbconvert_exporter": "python",
   "pygments_lexer": "ipython3",
   "version": "3.10.11"
  }
 },
 "nbformat": 4,
 "nbformat_minor": 5
}
